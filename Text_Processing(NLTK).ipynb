{
  "nbformat": 4,
  "nbformat_minor": 0,
  "metadata": {
    "colab": {
      "name": "Text Processing(NLTK).ipynb",
      "provenance": [],
      "authorship_tag": "ABX9TyMMxnsXL9HzpQM2LlM1Zcx2",
      "include_colab_link": true
    },
    "kernelspec": {
      "name": "python3",
      "display_name": "Python 3"
    },
    "language_info": {
      "name": "python"
    }
  },
  "cells": [
    {
      "cell_type": "markdown",
      "metadata": {
        "id": "view-in-github",
        "colab_type": "text"
      },
      "source": [
        "<a href=\"https://colab.research.google.com/github/komalakhil/NLP-raw/blob/main/Text_Processing(NLTK).ipynb\" target=\"_parent\"><img src=\"https://colab.research.google.com/assets/colab-badge.svg\" alt=\"Open In Colab\"/></a>"
      ]
    },
    {
      "cell_type": "code",
      "execution_count": null,
      "metadata": {
        "id": "uW5I4fmLBdJC"
      },
      "outputs": [],
      "source": [
        "import nltk\n",
        "import string\n",
        "import re"
      ]
    },
    {
      "cell_type": "code",
      "source": [
        "text=\"Hello There!\"\n",
        "print(text.lower())\n",
        "print(text.upper())"
      ],
      "metadata": {
        "colab": {
          "base_uri": "https://localhost:8080/"
        },
        "id": "fVmyFft0Bl9Y",
        "outputId": "4e29f64d-937c-4f02-d428-0fa55dc95ad9"
      },
      "execution_count": null,
      "outputs": [
        {
          "output_type": "stream",
          "name": "stdout",
          "text": [
            "hello there!\n",
            "HELLO THERE!\n"
          ]
        }
      ]
    },
    {
      "cell_type": "code",
      "source": [
        "text=\"There are 60 students in 3 classes\"       #REMOVING NUMBERS IN TEXT\n",
        "numless_text=re.sub(r'\\d+','',text)\n",
        "print(numless_text)"
      ],
      "metadata": {
        "colab": {
          "base_uri": "https://localhost:8080/"
        },
        "id": "Js0es3nuCRyN",
        "outputId": "31a6fcf8-aade-456a-8f68-0ff51ad940dc"
      },
      "execution_count": null,
      "outputs": [
        {
          "output_type": "stream",
          "name": "stdout",
          "text": [
            "There are  students in  classes\n"
          ]
        }
      ]
    },
    {
      "cell_type": "code",
      "source": [
        "import inflect                #TO CONVERT NUMBERS INTO RESPECTIVE WORD FORMAT\n",
        "eng=inflect.engine() \n",
        "text=\"There are 60 students in 3 classes\"\n",
        "txt_list=text.split()\n",
        "l=[]\n",
        "for w in txt_list:\n",
        "  if w.isdigit():\n",
        "    l.append(eng.number_to_words(w))\n",
        "  else:\n",
        "    l.append(w)\n",
        "print(' '.join(l))"
      ],
      "metadata": {
        "colab": {
          "base_uri": "https://localhost:8080/"
        },
        "id": "zZhRubF6Cr0B",
        "outputId": "50f10149-05dd-4705-8511-67b9ad09c0b1"
      },
      "execution_count": null,
      "outputs": [
        {
          "output_type": "stream",
          "name": "stdout",
          "text": [
            "There are sixty students in three classes\n"
          ]
        }
      ]
    },
    {
      "cell_type": "code",
      "source": [
        "text=\"Hey Guys!! How are you????\" #TO REMOVE PUNCTUATIONS..Generally done for preprocessing text. Since been been, been! been? all refer to same word\n",
        "transtable=str.maketrans('','',string.punctuation)  \n",
        "print(text.translate(transtable))"
      ],
      "metadata": {
        "colab": {
          "base_uri": "https://localhost:8080/"
        },
        "id": "-eFKiBZDD55_",
        "outputId": "553dadef-5e97-4797-9edc-74f72f185d8b"
      },
      "execution_count": null,
      "outputs": [
        {
          "output_type": "stream",
          "name": "stdout",
          "text": [
            "Hey Guys How are you\n"
          ]
        }
      ]
    },
    {
      "cell_type": "code",
      "source": [
        "from nltk.corpus import stopwords #STOPWORDS ==> words that are not so important to give meaning to ur content\n",
        "from nltk.tokenize import word_tokenize #Tokenizing the sentence into words. We also have char_tokenize,sentence_tokenize etc..\n",
        " \n",
        "nltk.download('stopwords') #it is module inside stopwords\n",
        "nltk.download('punkt')  #it is module inside word_tokenize which needs to be downloaded\n",
        "\n",
        "text=\"He is very tall indeed the tallest of all !\"\n",
        "stop_words=set(stopwords.words('english')) #for uniqueness of words\n",
        "text_tokens=word_tokenize(text)\n",
        "l=[w for w in text_tokens if w not in stop_words]\n",
        "print(l)\n",
        "print(stop_words)"
      ],
      "metadata": {
        "colab": {
          "base_uri": "https://localhost:8080/"
        },
        "id": "b9kN6Oa4FAo8",
        "outputId": "054e77d7-c234-4c28-ab3a-0fa382edad4b"
      },
      "execution_count": null,
      "outputs": [
        {
          "output_type": "stream",
          "name": "stdout",
          "text": [
            "[nltk_data] Downloading package stopwords to /root/nltk_data...\n",
            "[nltk_data]   Package stopwords is already up-to-date!\n",
            "[nltk_data] Downloading package punkt to /root/nltk_data...\n",
            "[nltk_data]   Package punkt is already up-to-date!\n",
            "['He', 'tall', 'indeed', 'tallest', '!']\n",
            "{'theirs', 'any', 'wouldn', 'there', \"doesn't\", 'at', \"hadn't\", 'should', 'few', 'has', 'didn', \"needn't\", 'haven', \"couldn't\", 'until', \"shouldn't\", 'yourselves', \"don't\", 'wasn', 'ain', 'as', 'an', 'to', \"isn't\", 'such', 'then', \"you've\", \"aren't\", 'himself', 'down', \"wouldn't\", 'who', 'do', 'in', 'how', 'ourselves', 'a', 'before', 'above', 'now', 'hasn', 'me', 't', 'over', 'will', 'o', 'ma', 'mustn', 'this', 'couldn', \"she's\", 'what', 'against', 'some', 'herself', 'she', 'and', 'more', \"mustn't\", 'below', 'of', 'between', 'all', \"weren't\", \"that'll\", 'again', 'they', 's', 'i', 'it', \"mightn't\", \"you'd\", 'by', 'had', 'can', 'both', 'so', 'that', 'into', \"hasn't\", 'mightn', 'we', 'with', 'does', 'other', 'll', 'on', 'be', 'while', 'been', 'same', 'myself', 'but', 'why', 'yourself', 'their', 'are', 'shouldn', 'am', 'them', 'own', 'you', 'having', 'up', \"shan't\", 'don', 'or', 'aren', \"didn't\", 'shan', 'out', 'these', \"wasn't\", 'too', 'here', 'not', 'weren', 'very', 'ours', 'hadn', 'hers', 'its', 'for', 'through', 'won', 'because', 'after', 'no', 'her', 'than', 'where', 'd', 'have', 'needn', 'if', 'itself', 'about', 'him', 'being', 'doing', 'just', 'our', \"you'll\", 'off', 'only', 'y', \"you're\", 'is', 'themselves', 'the', 'during', 'most', 've', 'your', 'yours', 'm', 'which', \"haven't\", 'his', 'when', 'under', 'did', 'each', 'from', \"should've\", 'were', 'isn', 'my', 'nor', \"it's\", 'further', 'those', 'was', 'doesn', \"won't\", 'he', 'whom', 're', 'once'}\n"
          ]
        }
      ]
    },
    {
      "cell_type": "code",
      "source": [
        "from nltk.stem.porter import PorterStemmer  #STEMMING ==> Converting all the words into its root forms  \n",
        "from nltk.tokenize import word_tokenize     #We also have snowball stemmer, Lancaster stemmer\n",
        "\n",
        "eng=PorterStemmer()\n",
        "text=\"Its going great for all the boys for mangoes\"\n",
        "text_tokens=word_tokenize(text)\n",
        "res=[eng.stem(w) for w in text_tokens]\n",
        "print(res)"
      ],
      "metadata": {
        "colab": {
          "base_uri": "https://localhost:8080/"
        },
        "id": "4mWp-GQiGrIv",
        "outputId": "85b95069-02f4-45f3-cf38-15badfbf05f1"
      },
      "execution_count": null,
      "outputs": [
        {
          "output_type": "stream",
          "name": "stdout",
          "text": [
            "['it', 'go', 'great', 'for', 'all', 'the', 'boy', 'for', 'mango']\n"
          ]
        }
      ]
    },
    {
      "cell_type": "code",
      "source": [
        "from nltk.stem import wordnet               #LEMMATIZATION ==> Converts words to its nearest meaningful words(convert into synonyms)\n",
        "from nltk.tokenize import word_tokenize     \n",
        "\n",
        "nltk.download('wordnet')\n",
        "eng=wordnet.WordNetLemmatizer()\n",
        "\n",
        "text=\"Its going great for all of our new boys for mangoes\"\n",
        "text_tokens=word_tokenize(text)\n",
        "l=[eng.lemmatize(w,pos='v') for w in text_tokens] #pos==>parts of speech.. v==> vowel\n",
        "print(l)"
      ],
      "metadata": {
        "colab": {
          "base_uri": "https://localhost:8080/"
        },
        "id": "diRlZrmMKEKO",
        "outputId": "3cfcf159-4c40-40fd-f2e5-da1f1719ed8b"
      },
      "execution_count": null,
      "outputs": [
        {
          "output_type": "stream",
          "name": "stdout",
          "text": [
            "[nltk_data] Downloading package wordnet to /root/nltk_data...\n",
            "[nltk_data]   Package wordnet is already up-to-date!\n",
            "['Its', 'go', 'great', 'for', 'all', 'of', 'our', 'new', 'boys', 'for', 'mangoes']\n"
          ]
        }
      ]
    },
    {
      "cell_type": "code",
      "source": [
        "from nltk import pos_tag    # Parts Of Speech tag ==> returns the parts of speech of every word\n",
        "from nltk import word_tokenize\n",
        "nltk.download('averaged_perceptron_tagger')\n",
        "\n",
        "text=\"Its going great for all the boys for mangoes\"\n",
        "text_tokens=word_tokenize(text)\n",
        "print(pos_tag(text_tokens))"
      ],
      "metadata": {
        "colab": {
          "base_uri": "https://localhost:8080/"
        },
        "id": "4POR1byqLPZW",
        "outputId": "b1166200-0f1b-4029-f4aa-7ed85e86e9be"
      },
      "execution_count": null,
      "outputs": [
        {
          "output_type": "stream",
          "name": "stdout",
          "text": [
            "[nltk_data] Downloading package averaged_perceptron_tagger to\n",
            "[nltk_data]     /root/nltk_data...\n",
            "[nltk_data]   Package averaged_perceptron_tagger is already up-to-\n",
            "[nltk_data]       date!\n",
            "[('Its', 'PRP$'), ('going', 'VBG'), ('great', 'JJ'), ('for', 'IN'), ('all', 'PDT'), ('the', 'DT'), ('boys', 'NNS'), ('for', 'IN'), ('mangoes', 'NNS')]\n"
          ]
        }
      ]
    },
    {
      "cell_type": "code",
      "source": [
        "from nltk import word_tokenize    #CHUNKING ==> converting words into our own grammar(acc. to regular expressions)\n",
        "from nltk import pos_tag\n",
        "text=\"Its going great for all the boys for mangoes\"\n",
        "grammar=\"NP:{<DT>?<JJ>*<NN>}\"\n",
        "text_tokens=word_tokenize(text)\n",
        "text_pos=pos_tag(text_tokens)\n",
        "chunkParser=nltk.RegexpParser(grammar)\n",
        "tree=chunkParser.parse(text_pos)\n",
        "for w in tree.subtrees():\n",
        "  print(w)"
      ],
      "metadata": {
        "colab": {
          "base_uri": "https://localhost:8080/"
        },
        "id": "tVzSsJ5dNpsS",
        "outputId": "66473cfd-5af7-4c7d-d6a3-bb73326e2a27"
      },
      "execution_count": null,
      "outputs": [
        {
          "output_type": "stream",
          "name": "stdout",
          "text": [
            "(S\n",
            "  Its/PRP$\n",
            "  going/VBG\n",
            "  great/JJ\n",
            "  for/IN\n",
            "  all/PDT\n",
            "  the/DT\n",
            "  boys/NNS\n",
            "  for/IN\n",
            "  mangoes/NNS)\n"
          ]
        }
      ]
    },
    {
      "cell_type": "code",
      "source": [
        "from nltk import word_tokenize        #NAME ENTITY RECOGNITION ==> This gives relation between names and entites\n",
        "from nltk import pos_tag,ne_chunk\n",
        "nltk.download('maxent_ne_chunker')\n",
        "nltk.download('words')\n",
        "text=\"Brain Lara is a super hero in India\"\n",
        "text_tokens=word_tokenize(text)\n",
        "text_pos=pos_tag(text_tokens)\n",
        "print(ne_chunk(text_pos))"
      ],
      "metadata": {
        "colab": {
          "base_uri": "https://localhost:8080/"
        },
        "id": "zEsSqWEpPgav",
        "outputId": "6e87e3c7-c7b9-4ed8-9794-df28b04a6d2a"
      },
      "execution_count": null,
      "outputs": [
        {
          "output_type": "stream",
          "name": "stdout",
          "text": [
            "[nltk_data] Downloading package maxent_ne_chunker to\n",
            "[nltk_data]     /root/nltk_data...\n",
            "[nltk_data]   Package maxent_ne_chunker is already up-to-date!\n",
            "[nltk_data] Downloading package words to /root/nltk_data...\n",
            "[nltk_data]   Package words is already up-to-date!\n",
            "(S\n",
            "  (PERSON Brain/NNP)\n",
            "  (ORGANIZATION Lara/NNP)\n",
            "  is/VBZ\n",
            "  a/DT\n",
            "  super/JJ\n",
            "  hero/NN\n",
            "  in/IN\n",
            "  (GPE India/NNP))\n"
          ]
        }
      ]
    },
    {
      "cell_type": "code",
      "source": [
        ""
      ],
      "metadata": {
        "id": "-De470cfQNJi"
      },
      "execution_count": null,
      "outputs": []
    }
  ]
}